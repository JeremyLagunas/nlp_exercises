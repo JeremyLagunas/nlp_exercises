{
 "cells": [
  {
   "cell_type": "code",
   "execution_count": 1,
   "id": "a7007b75",
   "metadata": {},
   "outputs": [],
   "source": [
    "import re\n",
    "import pandas as pd"
   ]
  },
  {
   "cell_type": "markdown",
   "id": "8837d37f",
   "metadata": {},
   "source": [
    "## 1. \n",
    "Write a function named is_vowel. It should accept a string as input and use a regular expression to determine if the passed string is a vowel. While not explicity mentioned in the lesson, you can treat the result of re.search as a boolean value that indicates whether or not the regular expression matches the given string."
   ]
  },
  {
   "cell_type": "code",
   "execution_count": 10,
   "id": "bb6ba8d3",
   "metadata": {},
   "outputs": [],
   "source": [
    "def is_vowel(x):\n",
    "    if re.search(r'[aeiou]', x):\n",
    "        print('Is a vowel')\n",
    "    else:\n",
    "        print('Is not a vowel')"
   ]
  },
  {
   "cell_type": "code",
   "execution_count": 13,
   "id": "4567c72c",
   "metadata": {},
   "outputs": [
    {
     "name": "stdout",
     "output_type": "stream",
     "text": [
      "Is a vowel\n"
     ]
    }
   ],
   "source": [
    "is_vowel('e')"
   ]
  },
  {
   "cell_type": "code",
   "execution_count": 14,
   "id": "2ad12b17",
   "metadata": {},
   "outputs": [
    {
     "name": "stdout",
     "output_type": "stream",
     "text": [
      "Is not a vowel\n"
     ]
    }
   ],
   "source": [
    "is_vowel('z')"
   ]
  },
  {
   "cell_type": "markdown",
   "id": "605edaf0",
   "metadata": {},
   "source": [
    "## 2. \n",
    "Write a function named is_valid_username that accepts a string as input. A valid username starts with a lowercase letter, and only consists of lowercase letters, numbers, or the _ character. It should also be no longer than 32 characters. The function should return either True or False depending on whether the passed string is a valid username."
   ]
  },
  {
   "cell_type": "code",
   "execution_count": 36,
   "id": "da4f495d",
   "metadata": {},
   "outputs": [],
   "source": [
    "def is_valid_username(x):\n",
    "    if re.search(r'^[a-z]+\\w{,31}[^\\W]', x):\n",
    "        print('True')\n",
    "    else:\n",
    "        print('False')"
   ]
  },
  {
   "cell_type": "code",
   "execution_count": 37,
   "id": "73f39eeb",
   "metadata": {},
   "outputs": [
    {
     "name": "stdout",
     "output_type": "stream",
     "text": [
      "True\n"
     ]
    }
   ],
   "source": [
    "is_valid_username('banana')"
   ]
  },
  {
   "cell_type": "code",
   "execution_count": 38,
   "id": "0f60be45",
   "metadata": {},
   "outputs": [
    {
     "name": "stdout",
     "output_type": "stream",
     "text": [
      "False\n"
     ]
    }
   ],
   "source": [
    "is_valid_username('Banana')"
   ]
  },
  {
   "cell_type": "code",
   "execution_count": 39,
   "id": "f81d66f9",
   "metadata": {},
   "outputs": [
    {
     "name": "stdout",
     "output_type": "stream",
     "text": [
      "False\n"
     ]
    }
   ],
   "source": [
    "is_valid_username('b!!!')"
   ]
  },
  {
   "cell_type": "code",
   "execution_count": 40,
   "id": "cc499aaa",
   "metadata": {},
   "outputs": [
    {
     "name": "stdout",
     "output_type": "stream",
     "text": [
      "False\n"
     ]
    }
   ],
   "source": [
    "is_valid_username('1codeup')"
   ]
  },
  {
   "cell_type": "markdown",
   "id": "6b41b014",
   "metadata": {},
   "source": [
    "## 3. \n",
    "Write a regular expression to capture phone numbers. It should match all of the following:\n",
    "\n",
    "(210) 867 5309\n",
    "\n",
    "+1 210.867.5309\n",
    "\n",
    "867-5309\n",
    "\n",
    "210-867-5309\n"
   ]
  },
  {
   "cell_type": "code",
   "execution_count": null,
   "id": "e59d9a15",
   "metadata": {},
   "outputs": [],
   "source": []
  }
 ],
 "metadata": {
  "kernelspec": {
   "display_name": "Python 3 (ipykernel)",
   "language": "python",
   "name": "python3"
  },
  "language_info": {
   "codemirror_mode": {
    "name": "ipython",
    "version": 3
   },
   "file_extension": ".py",
   "mimetype": "text/x-python",
   "name": "python",
   "nbconvert_exporter": "python",
   "pygments_lexer": "ipython3",
   "version": "3.9.12"
  }
 },
 "nbformat": 4,
 "nbformat_minor": 5
}
