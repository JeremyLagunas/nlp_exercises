{
 "cells": [
  {
   "cell_type": "code",
   "execution_count": 15,
   "id": "527e6bec",
   "metadata": {},
   "outputs": [],
   "source": [
    "from requests import get\n",
    "from bs4 import BeautifulSoup\n",
    "import os\n",
    "import pandas as pd"
   ]
  },
  {
   "cell_type": "markdown",
   "id": "de4ad911",
   "metadata": {},
   "source": [
    "## Example"
   ]
  },
  {
   "cell_type": "code",
   "execution_count": 2,
   "id": "34511f77",
   "metadata": {},
   "outputs": [],
   "source": [
    "url = 'https://codeup.com/data-science/math-in-data-science/'\n",
    "headers = {'User-Agent': 'Codeup Data Science'} # Some websites don't accept the pyhon-requests default user-agent\n",
    "response = get(url, headers=headers)\n"
   ]
  },
  {
   "cell_type": "code",
   "execution_count": 3,
   "id": "2b491559",
   "metadata": {},
   "outputs": [
    {
     "name": "stdout",
     "output_type": "stream",
     "text": [
      "<!DOCTYPE html>\n",
      "<html lang=\"en-US\">\n",
      "<head>\n",
      "\t<meta charset=\"UTF-8\" />\n",
      "<meta http-equiv=\"X-UA-Compatible\" content=\"IE=edge\">\n",
      "\t<link rel=\"pingback\" href=\"https://codeup.com/xmlrpc.php\" />\n",
      "\n",
      "\t<script type=\"text/javascript\">\n",
      "\t\tdocument.documentElement.className = 'js';\n",
      "\t</script>\n",
      "\t\n",
      "\t<link rel=\"preconnect\" href=\"https://fonts.gstatic.com\" crossorigin /><script id=\"diviarea-loader\">window.DiviPopupData=wi\n"
     ]
    }
   ],
   "source": [
    "print(response.text[:400])\n"
   ]
  },
  {
   "cell_type": "markdown",
   "id": "957d5b3b",
   "metadata": {},
   "source": [
    "## 1. \n",
    "Codeup Blog Articles\n",
    "\n",
    "Visit Codeup's Blog and record the urls for at least 5 distinct blog posts. For each post, you should scrape at least the post's title and content.\n",
    "\n",
    "Encapsulate your work in a function named get_blog_articles that will return a list of dictionaries, with each dictionary representing one article. The shape of each dictionary should look like this:"
   ]
  },
  {
   "cell_type": "code",
   "execution_count": 4,
   "id": "daf57c0e",
   "metadata": {},
   "outputs": [],
   "source": [
    "url = 'https://codeup.com/data-science/recession-proof-career/'\n",
    "headers = {'User-Agent': 'Codeup Data Science'} # Some websites don't accept the pyhon-requests default user-agent\n",
    "response = get(url, headers=headers)\n"
   ]
  },
  {
   "cell_type": "code",
   "execution_count": 5,
   "id": "b9d91437",
   "metadata": {},
   "outputs": [],
   "source": [
    "# Make a soup variable holding the response content\n",
    "soup = BeautifulSoup(response.content, 'html.parser')"
   ]
  },
  {
   "cell_type": "code",
   "execution_count": 7,
   "id": "7f1c73c8",
   "metadata": {},
   "outputs": [
    {
     "data": {
      "text/plain": [
       "'Is a Career in Tech Recession-Proof? - Codeup'"
      ]
     },
     "execution_count": 7,
     "metadata": {},
     "output_type": "execute_result"
    }
   ],
   "source": [
    "soup.title.string"
   ]
  },
  {
   "cell_type": "code",
   "execution_count": 14,
   "id": "ac7bd981",
   "metadata": {},
   "outputs": [
    {
     "data": {
      "text/plain": [
       "'\\nGiven the current economic climate, many economists are considering the U.S. to be entering a recession. This can cause confusion, fear, and uncertainty, especially as it pertains to job security.\\nTo ease some of those feelings, below you’ll find some careers in tech that tend to hold up better than others amid a recession. In the event of a recession, companies will likely shift to digital strategies, making these careers in tech valuable and highly coveted.\\n\\xa0\\n\\n\\nProgrammer/Developer\\nNo matter the programming language you’ve mastered, having the knowledge alone makes you extremely valuable. The coding skills you possess as a programmer or developer are in-demand for companies looking to build or enhance their websites, and enhance their consumer experience. According to the U.S. Bureau of Labor Statistics, jobs in software development are expected to grow 22% by 2030. This is much faster than the average career.\\n\\n\\xa0\\n\\n\\nCloud Administrator\\nMore businesses are transitioning to cloud servers and this increase sparks the need for cloud administrators to maintain and update the cloud infrastructure. Amid a recession, it is likely that efforts regarding security will be heightened as company strategies shift digitally, and managing a more secure server will be the responsibility of the cloud administrator.\\n\\n\\xa0\\n\\n\\nData Analyst\\nDuring a recession, the need to preserve and monitor data, as well as use data to make predictions to drive a business’ initiatives will be heightened. Data analysts would be relied on heavily to study the data presented and interpret it to solve any current or future problems.\\n\\nThe three positions mentioned above can all be obtained after you complete one of our bootcamps, and take as little as 15 to 20 weeks to complete. Upon successful completion, if you do not land a job in-field within 6 months of graduating from a Codeup program, we will refund your paid tuition back to you.*\\n\\xa0\\nCodeup Programs\\nCodeup is a Texas-based career accelerator, built to help you transition to a career in tech seamlessly, and be well-equipped to succeed in your new role. We offer three different programs: Full-Stack Web Development, Cloud Administration, and Data Science. You can learn more about each of them here or by requesting more information on any that may interest you.\\nIf you have any hesitation about changing your career, or about any of our programs please reach out to us. We would love to help you find the program that best suits your needs and interests. Give us a call today at (210) 802- 7289.\\n*See tuition refund details and specifications here.\\n'"
      ]
     },
     "execution_count": 14,
     "metadata": {},
     "output_type": "execute_result"
    }
   ],
   "source": [
    "soup.find('div', class_='entry-content').text"
   ]
  },
  {
   "cell_type": "code",
   "execution_count": 27,
   "id": "8ac31199",
   "metadata": {},
   "outputs": [],
   "source": [
    "urls = ['https://codeup.com/data-science/recession-proof-career/',\n",
    "       'https://codeup.com/codeup-news/codeup-x-comic-con/',\n",
    "       'https://codeup.com/featured/series-part-3-web-development/',\n",
    "       'https://codeup.com/codeup-news/codeup-dallas-campus/',\n",
    "       'https://codeup.com/codeup-news/codeup-tv-commercial/']"
   ]
  },
  {
   "cell_type": "code",
   "execution_count": 28,
   "id": "aca5c1ae",
   "metadata": {},
   "outputs": [],
   "source": [
    "def get_blog_posts(urls):\n",
    "    articles = []\n",
    "    url_dict = {}\n",
    "    for i in urls:\n",
    "        headers = {'User-Agent': 'Codeup Data Science'}\n",
    "        response = get(url, headers=headers)\n",
    "        soup = BeautifulSoup(response.content, 'html.parser')\n",
    "        title = soup.title.string\n",
    "        body = soup.find('div', class_='entry-content').text\n",
    "        article_dict = {\n",
    "        'title': title,\n",
    "        'body': body\n",
    "    }\n",
    "        articles.append(article_dict)\n",
    "        return articles\n",
    "        "
   ]
  },
  {
   "cell_type": "code",
   "execution_count": 29,
   "id": "4c622cad",
   "metadata": {},
   "outputs": [
    {
     "data": {
      "text/plain": [
       "[{'title': 'Is a Career in Tech Recession-Proof? - Codeup',\n",
       "  'body': '\\n\\n\\n\\n\\n\\nGiven the current economic climate, many economists are considering the U.S. to be entering a recession. This can cause confusion, fear, and uncertainty, especially as it pertains to job security.\\nTo ease some of those feelings, below you’ll find some careers in tech that tend to hold up better than others amid a recession. In the event of a recession, companies will likely shift to digital strategies, making these careers in tech valuable and highly coveted.\\n\\xa0\\n\\n\\nProgrammer/Developer\\nNo matter the programming language you’ve mastered, having the knowledge alone makes you extremely valuable. The coding skills you possess as a programmer or developer are in-demand for companies looking to build or enhance their websites, and enhance their consumer experience. According to the U.S. Bureau of Labor Statistics, jobs in software development are expected to grow 22% by 2030. This is much faster than the average career.\\n\\n\\xa0\\n\\n\\nCloud Administrator\\nMore businesses are transitioning to cloud servers and this increase sparks the need for cloud administrators to maintain and update the cloud infrastructure. Amid a recession, it is likely that efforts regarding security will be heightened as company strategies shift digitally, and managing a more secure server will be the responsibility of the cloud administrator.\\n\\n\\xa0\\n\\n\\nData Analyst\\nDuring a recession, the need to preserve and monitor data, as well as use data to make predictions to drive a business’ initiatives will be heightened. Data analysts would be relied on heavily to study the data presented and interpret it to solve any current or future problems.\\n\\nThe three positions mentioned above can all be obtained after you complete one of our bootcamps, and take as little as 15 to 20 weeks to complete. Upon successful completion, if you do not land a job in-field within 6 months of graduating from a Codeup program, we will refund your paid tuition back to you.*\\n\\xa0\\nCodeup Programs\\nCodeup is a Texas-based career accelerator, built to help you transition to a career in tech seamlessly, and be well-equipped to succeed in your new role. We offer three different programs: Full-Stack Web Development, Cloud Administration, and Data Science. You can learn more about each of them here or by requesting more information on any that may interest you.\\nIf you have any hesitation about changing your career, or about any of our programs please reach out to us. We would love to help you find the program that best suits your needs and interests. Give us a call today at (210) 802- 7289.\\n*See tuition refund details and specifications here.\\n\\n\\n\\n \\n\\n'}]"
      ]
     },
     "execution_count": 29,
     "metadata": {},
     "output_type": "execute_result"
    }
   ],
   "source": [
    "get_blog_posts(urls)"
   ]
  },
  {
   "cell_type": "code",
   "execution_count": null,
   "id": "8eb51139",
   "metadata": {},
   "outputs": [],
   "source": []
  }
 ],
 "metadata": {
  "kernelspec": {
   "display_name": "Python 3 (ipykernel)",
   "language": "python",
   "name": "python3"
  },
  "language_info": {
   "codemirror_mode": {
    "name": "ipython",
    "version": 3
   },
   "file_extension": ".py",
   "mimetype": "text/x-python",
   "name": "python",
   "nbconvert_exporter": "python",
   "pygments_lexer": "ipython3",
   "version": "3.9.12"
  }
 },
 "nbformat": 4,
 "nbformat_minor": 5
}
